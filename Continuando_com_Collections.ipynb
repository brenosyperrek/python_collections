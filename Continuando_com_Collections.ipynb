{
  "cells": [
    {
      "cell_type": "markdown",
      "metadata": {
        "colab_type": "text",
        "id": "view-in-github"
      },
      "source": [
        "<a href=\"https://colab.research.google.com/github/brenosyperrek/python_collections/blob/main/Continuando_com_Collections.ipynb\" target=\"_parent\"><img src=\"https://colab.research.google.com/assets/colab-badge.svg\" alt=\"Open In Colab\"/></a>"
      ]
    },
    {
      "cell_type": "code",
      "execution_count": 1,
      "metadata": {
        "id": "RNkYmGXDTVYS"
      },
      "outputs": [],
      "source": [
        "usuarios_data_science = [15, 23, 43, 56]\n",
        "usuarios_machine_learning = [113,23,56,42]"
      ]
    },
    {
      "cell_type": "code",
      "execution_count": 2,
      "metadata": {
        "colab": {
          "base_uri": "https://localhost:8080/"
        },
        "id": "x7oKBPZ5Yviv",
        "outputId": "76f7ff80-163b-413f-a794-eea5ffbbcafc"
      },
      "outputs": [
        {
          "data": {
            "text/plain": [
              "[15, 23, 43, 56, 113, 23, 56, 42]"
            ]
          },
          "execution_count": 2,
          "metadata": {},
          "output_type": "execute_result"
        }
      ],
      "source": [
        "assistiram = usuarios_data_science.copy()\n",
        "assistiram.extend(usuarios_machine_learning)\n",
        "assistiram"
      ]
    },
    {
      "cell_type": "code",
      "execution_count": null,
      "metadata": {
        "colab": {
          "base_uri": "https://localhost:8080/"
        },
        "id": "M_pPaHkjY9_B",
        "outputId": "2bf921a0-edec-410c-9b6b-f019be02bc13"
      },
      "outputs": [
        {
          "data": {
            "text/plain": [
              "8"
            ]
          },
          "execution_count": 3,
          "metadata": {},
          "output_type": "execute_result"
        }
      ],
      "source": [
        "len(assistiram)"
      ]
    },
    {
      "cell_type": "code",
      "execution_count": null,
      "metadata": {
        "colab": {
          "base_uri": "https://localhost:8080/"
        },
        "id": "L3K_KwttSWGF",
        "outputId": "8262eff1-910f-4124-a0a6-541cd65f4b82"
      },
      "outputs": [
        {
          "data": {
            "text/plain": [
              "{15, 23, 42, 43, 56, 113}"
            ]
          },
          "execution_count": 4,
          "metadata": {},
          "output_type": "execute_result"
        }
      ],
      "source": [
        "set(assistiram)"
      ]
    },
    {
      "cell_type": "code",
      "execution_count": null,
      "metadata": {
        "colab": {
          "base_uri": "https://localhost:8080/"
        },
        "id": "uMzGtlAmSWGF",
        "outputId": "b7f592e6-af39-4a15-e231-4028a405677e"
      },
      "outputs": [
        {
          "data": {
            "text/plain": [
              "43"
            ]
          },
          "execution_count": 5,
          "metadata": {},
          "output_type": "execute_result"
        }
      ],
      "source": [
        "usuarios_data_science[2]"
      ]
    },
    {
      "cell_type": "code",
      "execution_count": null,
      "metadata": {
        "colab": {
          "base_uri": "https://localhost:8080/"
        },
        "id": "s2k37XClSWGG",
        "outputId": "8907263f-cca5-4b26-b44c-a3051b56fa1c"
      },
      "outputs": [
        {
          "name": "stdout",
          "output_type": "stream",
          "text": [
            "42\n",
            "43\n",
            "15\n",
            "113\n",
            "23\n",
            "56\n"
          ]
        }
      ],
      "source": [
        "for usuario in set(assistiram):\n",
        "    print(usuario)"
      ]
    },
    {
      "cell_type": "code",
      "execution_count": null,
      "metadata": {
        "id": "lEsLzh7OSWGH"
      },
      "outputs": [],
      "source": [
        "usuarios_data_science = {15, 23, 43, 56}\n",
        "usuarios_machine_learning = {113,23,56,42}"
      ]
    },
    {
      "cell_type": "code",
      "execution_count": null,
      "metadata": {
        "colab": {
          "base_uri": "https://localhost:8080/"
        },
        "id": "gjkZOZKkSWGH",
        "outputId": "96a87dc8-998b-4cd1-ef8b-7cfdef31580e"
      },
      "outputs": [
        {
          "data": {
            "text/plain": [
              "{23, 56}"
            ]
          },
          "execution_count": 8,
          "metadata": {},
          "output_type": "execute_result"
        }
      ],
      "source": [
        "usuarios_data_science & usuarios_machine_learning"
      ]
    },
    {
      "cell_type": "code",
      "execution_count": null,
      "metadata": {
        "colab": {
          "base_uri": "https://localhost:8080/"
        },
        "id": "egVdEAdWSWGI",
        "outputId": "dc83e236-d596-479a-9916-6e80500eb34d"
      },
      "outputs": [
        {
          "data": {
            "text/plain": [
              "{15, 43}"
            ]
          },
          "execution_count": 9,
          "metadata": {},
          "output_type": "execute_result"
        }
      ],
      "source": [
        "usuarios_data_science - usuarios_machine_learning"
      ]
    },
    {
      "cell_type": "code",
      "execution_count": null,
      "metadata": {
        "colab": {
          "base_uri": "https://localhost:8080/"
        },
        "id": "mKBUDKWKSWGJ",
        "outputId": "3c737bb9-0671-4e58-a345-9b9e3ff1079f"
      },
      "outputs": [
        {
          "data": {
            "text/plain": [
              "True"
            ]
          },
          "execution_count": 10,
          "metadata": {},
          "output_type": "execute_result"
        }
      ],
      "source": [
        "15 in (usuarios_data_science - usuarios_machine_learning)"
      ]
    },
    {
      "cell_type": "code",
      "execution_count": null,
      "metadata": {
        "colab": {
          "base_uri": "https://localhost:8080/"
        },
        "id": "ZZQY2tCASWGJ",
        "outputId": "1d33d459-8478-4e0a-83e2-b3e19deb280f"
      },
      "outputs": [
        {
          "data": {
            "text/plain": [
              "False"
            ]
          },
          "execution_count": 11,
          "metadata": {},
          "output_type": "execute_result"
        }
      ],
      "source": [
        "23 in (usuarios_data_science - usuarios_machine_learning)"
      ]
    },
    {
      "cell_type": "code",
      "execution_count": null,
      "metadata": {
        "colab": {
          "base_uri": "https://localhost:8080/"
        },
        "id": "bcmRDgw_SWGK",
        "outputId": "c5b8426a-f677-4335-bf9a-deac69654d22"
      },
      "outputs": [
        {
          "data": {
            "text/plain": [
              "{15, 42, 43, 113}"
            ]
          },
          "execution_count": 12,
          "metadata": {},
          "output_type": "execute_result"
        }
      ],
      "source": [
        "usuarios_data_science ^ usuarios_machine_learning"
      ]
    },
    {
      "cell_type": "code",
      "execution_count": null,
      "metadata": {
        "colab": {
          "base_uri": "https://localhost:8080/"
        },
        "id": "KgxXukxCSWGK",
        "outputId": "51fd229a-b4c3-49ce-9f23-e7e9fd0144e8"
      },
      "outputs": [
        {
          "data": {
            "text/plain": [
              "{1, 5, 13, 17, 34, 52, 76}"
            ]
          },
          "execution_count": 13,
          "metadata": {},
          "output_type": "execute_result"
        }
      ],
      "source": [
        "usuarios = {1, 5, 76, 34, 52, 13, 17}\n",
        "usuarios"
      ]
    },
    {
      "cell_type": "code",
      "execution_count": null,
      "metadata": {
        "colab": {
          "base_uri": "https://localhost:8080/"
        },
        "id": "PFcabSS0SWGK",
        "outputId": "c2f16ba8-02c5-4c67-a768-1bd71a663af9"
      },
      "outputs": [
        {
          "data": {
            "text/plain": [
              "{1, 5, 13, 14, 17, 34, 52, 76}"
            ]
          },
          "execution_count": 14,
          "metadata": {},
          "output_type": "execute_result"
        }
      ],
      "source": [
        "usuarios.add(14)\n",
        "usuarios"
      ]
    },
    {
      "cell_type": "code",
      "execution_count": null,
      "metadata": {
        "id": "Pm29zEZpSWGL"
      },
      "outputs": [],
      "source": [
        "usuarios = frozenset(usuarios)"
      ]
    },
    {
      "cell_type": "code",
      "execution_count": null,
      "metadata": {
        "colab": {
          "base_uri": "https://localhost:8080/"
        },
        "id": "Ut0frMChSWGL",
        "outputId": "68449c0a-b5ef-4f22-a4e7-23a8b2d57930"
      },
      "outputs": [
        {
          "data": {
            "text/plain": [
              "frozenset"
            ]
          },
          "execution_count": 16,
          "metadata": {},
          "output_type": "execute_result"
        }
      ],
      "source": [
        "type(usuarios)"
      ]
    },
    {
      "cell_type": "code",
      "execution_count": null,
      "metadata": {
        "colab": {
          "base_uri": "https://localhost:8080/"
        },
        "id": "xc0FjFWESWGL",
        "outputId": "6f175ccd-54d8-470e-e891-2f47081f54de"
      },
      "outputs": [
        {
          "data": {
            "text/plain": [
              "['meu',\n",
              " 'nomo',\n",
              " 'é',\n",
              " 'breno',\n",
              " 'trabalho',\n",
              " 'na',\n",
              " 'casan',\n",
              " 'e',\n",
              " 'tenho',\n",
              " '2',\n",
              " 'filhos',\n",
              " 'e',\n",
              " 'dois',\n",
              " 'cachorros',\n",
              " 'e',\n",
              " 'gosto',\n",
              " 'muito',\n",
              " 'de',\n",
              " 'pizzza']"
            ]
          },
          "execution_count": 17,
          "metadata": {},
          "output_type": "execute_result"
        }
      ],
      "source": [
        "texto = \"meu nomo é breno trabalho na casan e tenho 2 filhos e dois cachorros e gosto muito de pizzza\"\n",
        "texto.split()"
      ]
    },
    {
      "cell_type": "code",
      "execution_count": null,
      "metadata": {
        "colab": {
          "base_uri": "https://localhost:8080/"
        },
        "id": "oniDDdaBSWGM",
        "outputId": "62c6c09d-9cd7-4b56-b061-2fd25fdfd492"
      },
      "outputs": [
        {
          "data": {
            "text/plain": [
              "{'2',\n",
              " 'breno',\n",
              " 'cachorros',\n",
              " 'casan',\n",
              " 'de',\n",
              " 'dois',\n",
              " 'e',\n",
              " 'filhos',\n",
              " 'gosto',\n",
              " 'meu',\n",
              " 'muito',\n",
              " 'na',\n",
              " 'nomo',\n",
              " 'pizzza',\n",
              " 'tenho',\n",
              " 'trabalho',\n",
              " 'é'}"
            ]
          },
          "execution_count": 18,
          "metadata": {},
          "output_type": "execute_result"
        }
      ],
      "source": [
        "set(texto.split())"
      ]
    },
    {
      "cell_type": "code",
      "execution_count": null,
      "metadata": {
        "id": "LkFezTZOSWGM"
      },
      "outputs": [],
      "source": [
        "aparicoes = {\n",
        "    \"Breno\" : 1,\n",
        "    \"cachorro\" : 2,\n",
        "    \"nome\" : 2,\n",
        "    \"vindo\" : 1\n",
        "}\n"
      ]
    },
    {
      "cell_type": "code",
      "execution_count": null,
      "metadata": {
        "colab": {
          "base_uri": "https://localhost:8080/"
        },
        "id": "glTvLD7zSWGM",
        "outputId": "ee37d148-65fe-43e8-e2d7-f0ba1dc64c35"
      },
      "outputs": [
        {
          "data": {
            "text/plain": [
              "dict"
            ]
          },
          "execution_count": 20,
          "metadata": {},
          "output_type": "execute_result"
        }
      ],
      "source": [
        "type(aparicoes)"
      ]
    },
    {
      "cell_type": "code",
      "execution_count": null,
      "metadata": {
        "colab": {
          "base_uri": "https://localhost:8080/"
        },
        "id": "CZyOOOvtSWGN",
        "outputId": "a1480d3d-b93c-4079-8041-1ad44eb63259"
      },
      "outputs": [
        {
          "data": {
            "text/plain": [
              "1"
            ]
          },
          "execution_count": 21,
          "metadata": {},
          "output_type": "execute_result"
        }
      ],
      "source": [
        "aparicoes['Breno']"
      ]
    },
    {
      "cell_type": "code",
      "execution_count": null,
      "metadata": {
        "colab": {
          "base_uri": "https://localhost:8080/"
        },
        "id": "Vp4EY1WiSWGN",
        "outputId": "74298880-67b7-4dd3-c94f-a74b1ff557ba"
      },
      "outputs": [
        {
          "data": {
            "text/plain": [
              "2"
            ]
          },
          "execution_count": 22,
          "metadata": {},
          "output_type": "execute_result"
        }
      ],
      "source": [
        "aparicoes.get('cachorro', 0)"
      ]
    },
    {
      "cell_type": "code",
      "execution_count": null,
      "metadata": {
        "colab": {
          "base_uri": "https://localhost:8080/"
        },
        "id": "MGAhyJurSWGN",
        "outputId": "586d05d9-5c08-4872-ef9a-14e72945dbc4"
      },
      "outputs": [
        {
          "data": {
            "text/plain": [
              "0"
            ]
          },
          "execution_count": 23,
          "metadata": {},
          "output_type": "execute_result"
        }
      ],
      "source": [
        "aparicoes.get('xpto', 0)"
      ]
    },
    {
      "cell_type": "code",
      "execution_count": null,
      "metadata": {
        "colab": {
          "base_uri": "https://localhost:8080/"
        },
        "id": "EeND9u-SSWGO",
        "outputId": "6b6aa1af-9642-4652-f937-abc96bac669f"
      },
      "outputs": [
        {
          "data": {
            "text/plain": [
              "{'Breno': 2, 'cachorro': 3, 'neve': 100}"
            ]
          },
          "execution_count": 24,
          "metadata": {},
          "output_type": "execute_result"
        }
      ],
      "source": [
        "aparicoes = dict(Breno = 2, cachorro = 3, neve = 100)\n",
        "aparicoes"
      ]
    },
    {
      "cell_type": "code",
      "execution_count": null,
      "metadata": {
        "id": "864ysETgSWGO"
      },
      "outputs": [],
      "source": [
        "aparicoes = {\n",
        "    \"Breno\" : 1,\n",
        "    \"cachorro\" : 2,\n",
        "    \"nome\" : 2,\n",
        "    \"vindo\" : 1\n",
        "}"
      ]
    },
    {
      "cell_type": "code",
      "execution_count": null,
      "metadata": {
        "colab": {
          "base_uri": "https://localhost:8080/"
        },
        "id": "DA9eW2HISWGO",
        "outputId": "dd03da8c-2a1a-4c72-93f2-67d17c5d9bc0"
      },
      "outputs": [
        {
          "data": {
            "text/plain": [
              "{'Breno': 1, 'cachorro': 2, 'nome': 2, 'vindo': 1, 'Simone': 1}"
            ]
          },
          "execution_count": 26,
          "metadata": {},
          "output_type": "execute_result"
        }
      ],
      "source": [
        "aparicoes['Simone'] = 1\n",
        "aparicoes"
      ]
    },
    {
      "cell_type": "code",
      "execution_count": null,
      "metadata": {
        "colab": {
          "base_uri": "https://localhost:8080/"
        },
        "id": "V1AKLu-fSWGO",
        "outputId": "5acaca13-7302-40d0-aba8-f14d60ea7f67"
      },
      "outputs": [
        {
          "data": {
            "text/plain": [
              "{'Breno': 1, 'cachorro': 2, 'nome': 2, 'vindo': 1, 'Simone': 5}"
            ]
          },
          "execution_count": 27,
          "metadata": {},
          "output_type": "execute_result"
        }
      ],
      "source": [
        "aparicoes['Simone'] = 5\n",
        "aparicoes"
      ]
    },
    {
      "cell_type": "code",
      "execution_count": null,
      "metadata": {
        "colab": {
          "base_uri": "https://localhost:8080/"
        },
        "id": "yZownw70SWGO",
        "outputId": "59e4631c-a5db-4ec1-aef4-623f4997b1f4"
      },
      "outputs": [
        {
          "data": {
            "text/plain": [
              "{'Breno': 1, 'cachorro': 2, 'nome': 2, 'vindo': 1}"
            ]
          },
          "execution_count": 28,
          "metadata": {},
          "output_type": "execute_result"
        }
      ],
      "source": [
        "del aparicoes['Simone']\n",
        "aparicoes"
      ]
    },
    {
      "cell_type": "code",
      "execution_count": null,
      "metadata": {
        "colab": {
          "base_uri": "https://localhost:8080/"
        },
        "id": "nPtTfXHISWGP",
        "outputId": "f7b00789-2d09-4baf-a682-c70397448a07"
      },
      "outputs": [
        {
          "data": {
            "text/plain": [
              "True"
            ]
          },
          "execution_count": 29,
          "metadata": {},
          "output_type": "execute_result"
        }
      ],
      "source": [
        "'cachorro' in aparicoes"
      ]
    },
    {
      "cell_type": "code",
      "execution_count": null,
      "metadata": {
        "colab": {
          "base_uri": "https://localhost:8080/"
        },
        "id": "jv0s-4-FSWGP",
        "outputId": "2c7252a4-a186-46e6-a496-06070f94c097"
      },
      "outputs": [
        {
          "name": "stdout",
          "output_type": "stream",
          "text": [
            "Breno\n",
            "cachorro\n",
            "nome\n",
            "vindo\n"
          ]
        }
      ],
      "source": [
        "for elemento in aparicoes:\n",
        "    print(elemento)"
      ]
    },
    {
      "cell_type": "code",
      "execution_count": null,
      "metadata": {
        "colab": {
          "base_uri": "https://localhost:8080/"
        },
        "id": "Xc3ILkdjSWGP",
        "outputId": "12f497ac-dbec-4e20-d19e-e75c0d0f8692"
      },
      "outputs": [
        {
          "data": {
            "text/plain": [
              "True"
            ]
          },
          "execution_count": 31,
          "metadata": {},
          "output_type": "execute_result"
        }
      ],
      "source": [
        "1 in aparicoes.values()"
      ]
    },
    {
      "cell_type": "code",
      "execution_count": null,
      "metadata": {
        "colab": {
          "base_uri": "https://localhost:8080/"
        },
        "id": "rtM2rxMuSWGP",
        "outputId": "4587b105-8f68-4ed7-cf4e-f2e79eb10e4d"
      },
      "outputs": [
        {
          "name": "stdout",
          "output_type": "stream",
          "text": [
            "Breno 1\n",
            "cachorro 2\n",
            "nome 2\n",
            "vindo 1\n"
          ]
        }
      ],
      "source": [
        "for elemento in aparicoes:\n",
        "    print(elemento,aparicoes[elemento])"
      ]
    },
    {
      "cell_type": "code",
      "execution_count": null,
      "metadata": {
        "colab": {
          "base_uri": "https://localhost:8080/"
        },
        "id": "aRxJcahRSWGP",
        "outputId": "9ced7ff1-ef06-4a03-cb23-740fe60092c5"
      },
      "outputs": [
        {
          "name": "stdout",
          "output_type": "stream",
          "text": [
            "('Breno', 1)\n",
            "('cachorro', 2)\n",
            "('nome', 2)\n",
            "('vindo', 1)\n"
          ]
        }
      ],
      "source": [
        "for elemento in aparicoes.items():\n",
        "    print(elemento)"
      ]
    },
    {
      "cell_type": "code",
      "execution_count": null,
      "metadata": {
        "colab": {
          "base_uri": "https://localhost:8080/"
        },
        "id": "xS0HSbNjSWGQ",
        "outputId": "170872cd-c8f8-4040-8bdb-b9af01e63adb"
      },
      "outputs": [
        {
          "name": "stdout",
          "output_type": "stream",
          "text": [
            "Breno = 1\n",
            "cachorro = 2\n",
            "nome = 2\n",
            "vindo = 1\n"
          ]
        }
      ],
      "source": [
        "for chave, valor in aparicoes.items():\n",
        "    print(chave, '=', valor)"
      ]
    },
    {
      "cell_type": "code",
      "execution_count": null,
      "metadata": {
        "colab": {
          "base_uri": "https://localhost:8080/"
        },
        "id": "CPFpyF0LSWGQ",
        "outputId": "d03a3d13-fb3d-4f82-9815-f8cbfb7133b1"
      },
      "outputs": [
        {
          "data": {
            "text/plain": [
              "['palavra Breno', 'palavra cachorro', 'palavra nome', 'palavra vindo']"
            ]
          },
          "execution_count": 35,
          "metadata": {},
          "output_type": "execute_result"
        }
      ],
      "source": [
        "[\"palavra {}\".format(chave) for chave in aparicoes.keys()]"
      ]
    },
    {
      "cell_type": "code",
      "execution_count": null,
      "metadata": {
        "colab": {
          "base_uri": "https://localhost:8080/"
        },
        "id": "A7qReWPHSWGQ",
        "outputId": "701d88a7-fd6d-4439-bcae-aeed62c74f04"
      },
      "outputs": [
        {
          "data": {
            "text/plain": [
              "{'bem': 1,\n",
              " 'vindo': 1,\n",
              " 'meu': 2,\n",
              " 'nome': 1,\n",
              " 'é': 1,\n",
              " 'breno': 1,\n",
              " 'eu': 1,\n",
              " 'gosto': 1,\n",
              " 'muito': 2,\n",
              " 'de': 2,\n",
              " 'nomes': 1,\n",
              " 'e': 2,\n",
              " 'tenho': 1,\n",
              " 'o': 1,\n",
              " 'cachorro': 2,\n",
              " 'gossto': 1}"
            ]
          },
          "execution_count": 36,
          "metadata": {},
          "output_type": "execute_result"
        }
      ],
      "source": [
        "meu_texto = \"Bem vindo meu nome é Breno eu gosto muito de nomes e tenho o meu cachorro e gossto muito de cachorro\"\n",
        "meu_texto = meu_texto.lower()\n",
        "\n",
        "aparicoes = {}\n",
        "\n",
        "for palavra in meu_texto.split():\n",
        "    ate_agora = aparicoes.get(palavra, 0)\n",
        "    aparicoes[palavra] = ate_agora + 1\n",
        "\n",
        "aparicoes    "
      ]
    },
    {
      "cell_type": "code",
      "execution_count": null,
      "metadata": {
        "colab": {
          "base_uri": "https://localhost:8080/"
        },
        "id": "5KleAQ20SWGQ",
        "outputId": "efa7250d-53bc-4f40-c513-d6dae1a37b87"
      },
      "outputs": [
        {
          "data": {
            "text/plain": [
              "defaultdict(int,\n",
              "            {'bem': 1,\n",
              "             'vindo': 1,\n",
              "             'meu': 2,\n",
              "             'nome': 1,\n",
              "             'é': 1,\n",
              "             'breno': 1,\n",
              "             'eu': 1,\n",
              "             'gosto': 1,\n",
              "             'muito': 2,\n",
              "             'de': 2,\n",
              "             'nomes': 1,\n",
              "             'e': 2,\n",
              "             'tenho': 1,\n",
              "             'o': 1,\n",
              "             'cachorro': 2,\n",
              "             'gossto': 1})"
            ]
          },
          "execution_count": 37,
          "metadata": {},
          "output_type": "execute_result"
        }
      ],
      "source": [
        "from collections import defaultdict\n",
        "\n",
        "aparicoes = defaultdict(int)\n",
        "\n",
        "for palavra in meu_texto.split():\n",
        "    ate_agora = aparicoes[palavra]\n",
        "    aparicoes[palavra] = ate_agora + 1\n",
        "\n",
        "aparicoes    "
      ]
    },
    {
      "cell_type": "code",
      "execution_count": null,
      "metadata": {
        "colab": {
          "base_uri": "https://localhost:8080/"
        },
        "id": "0cKF2r_ESWGR",
        "outputId": "a2487a00-6e53-47cb-bcda-c3fb3b198abc"
      },
      "outputs": [
        {
          "data": {
            "text/plain": [
              "defaultdict(int,\n",
              "            {'bem': 1,\n",
              "             'vindo': 1,\n",
              "             'meu': 2,\n",
              "             'nome': 1,\n",
              "             'é': 1,\n",
              "             'breno': 1,\n",
              "             'eu': 1,\n",
              "             'gosto': 1,\n",
              "             'muito': 2,\n",
              "             'de': 2,\n",
              "             'nomes': 1,\n",
              "             'e': 2,\n",
              "             'tenho': 1,\n",
              "             'o': 1,\n",
              "             'cachorro': 2,\n",
              "             'gossto': 1})"
            ]
          },
          "execution_count": 38,
          "metadata": {},
          "output_type": "execute_result"
        }
      ],
      "source": [
        "aparicoes = defaultdict(int)\n",
        "\n",
        "for palavra in meu_texto.split():\n",
        "    aparicoes[palavra] += 1\n",
        "\n",
        "aparicoes    "
      ]
    },
    {
      "cell_type": "code",
      "execution_count": null,
      "metadata": {
        "colab": {
          "base_uri": "https://localhost:8080/"
        },
        "id": "ZssKgGn9SWGR",
        "outputId": "b8ca77d1-5eaf-4a51-d4ad-69a632746f5e"
      },
      "outputs": [
        {
          "data": {
            "text/plain": [
              "Counter({'bem': 1,\n",
              "         'vindo': 1,\n",
              "         'meu': 2,\n",
              "         'nome': 1,\n",
              "         'é': 1,\n",
              "         'breno': 1,\n",
              "         'eu': 1,\n",
              "         'gosto': 1,\n",
              "         'muito': 2,\n",
              "         'de': 2,\n",
              "         'nomes': 1,\n",
              "         'e': 2,\n",
              "         'tenho': 1,\n",
              "         'o': 1,\n",
              "         'cachorro': 2,\n",
              "         'gossto': 1})"
            ]
          },
          "execution_count": 39,
          "metadata": {},
          "output_type": "execute_result"
        }
      ],
      "source": [
        "from collections import Counter\n",
        "\n",
        "aparicoes = Counter(meu_texto.split())\n",
        "\n",
        "aparicoes"
      ]
    },
    {
      "cell_type": "code",
      "execution_count": null,
      "metadata": {
        "id": "v5eYKO_WSWGR"
      },
      "outputs": [],
      "source": [
        "texto1 = \"\"\"\n",
        "Mais de 170 concursos públicos no país estão com inscrições abertas nesta segunda-feira (19) e reúnem mais de 15 mil vagas em cargos de todos os níveis de escolaridade.\n",
        "Na sexta-feira, o Instituto Nacional do Seguro Social (INSS) abriu as inscrições do concurso público para preencher 1.000 vagas. O salário é de R$ 5.905,79.\n",
        "Além das vagas abertas, há concursos para formação de cadastro de reserva – ou seja, os candidatos aprovados são chamados conforme a abertura de vagas durante a validade do concurso.\n",
        "Nesta segunda, pelo menos quatro órgãos abrem o prazo de inscrições para quase 200 vagas em cargos de todos os níveis de escolaridade. Veja abaixo as informações de cada concurso:\n",
        "\"\"\""
      ]
    },
    {
      "cell_type": "code",
      "execution_count": null,
      "metadata": {
        "id": "QsWy3TnRSWGS"
      },
      "outputs": [],
      "source": [
        "texto2 = \"\"\"\n",
        "Áudios obtidos pelo Fantástico mostram pedidos de Jonas Lucas Alves Dias, ganhador de R$ 47,1 milhões na Mega-Sena em 2020, para que a gerente de seu banco liberasse uma transferência R$ 3 milhões a partir de sua conta.\n",
        "Os pedidos foram feitos quando ele já tinha sido sequestrado e estava sob o poder de uma quadrilha, que tentava extorquir dinheiro da vítima, que acabou morta — o crime aconteceu em Hortolândia (SP). Dois já foram presos e outros dois estão foragidos.\n",
        "\"Não chegou nada do comprovante, consegue agilizar isso pra mim?\", diz Jonas em uma das mensagens de áudio. \"Tô aqui na fazenda, preciso fechar isso aqui hoje\", afirma, em outro momento.\n",
        "A delegada Juliana Ricci, titular da Divisão Especializada de Investigações Criminais (Deic) de Piracicaba (SP), disse que a transferência foi negada porque !o valor era irreal\".\n",
        "\"Ele estava subjugado, isso nós temos certeza. Pede transferência bancária, que obviamente foi negada porque o valor era irreal para ser transferido sem ser presencialmente\", disse Ricci.\n",
        "\"\"\""
      ]
    },
    {
      "cell_type": "code",
      "execution_count": null,
      "metadata": {
        "colab": {
          "base_uri": "https://localhost:8080/"
        },
        "id": "XMk3exx1SWGS",
        "outputId": "6b7ccbc5-9124-4de6-ca8c-0ed747c3b39e"
      },
      "outputs": [
        {
          "data": {
            "text/plain": [
              "[(' ', 15.942028985507244),\n",
              " ('a', 10.72463768115942),\n",
              " ('s', 8.840579710144928),\n",
              " ('o', 7.971014492753622),\n",
              " ('e', 7.681159420289855),\n",
              " ('r', 5.797101449275362),\n",
              " ('d', 4.782608695652174),\n",
              " ('i', 4.057971014492753),\n",
              " ('c', 4.057971014492753),\n",
              " ('n', 3.91304347826087)]"
            ]
          },
          "execution_count": 42,
          "metadata": {},
          "output_type": "execute_result"
        }
      ],
      "source": [
        "aparicoes = Counter(texto1.lower())\n",
        "total_de_caracteres = sum(aparicoes.values())\n",
        "proporcoes = [(letra,frequencia/total_de_caracteres*100) for letra, frequencia in aparicoes.items()]\n",
        "proporcoes = Counter(dict(proporcoes))\n",
        "proporcoes.most_common(10)\n",
        "    "
      ]
    },
    {
      "cell_type": "code",
      "execution_count": null,
      "metadata": {
        "colab": {
          "base_uri": "https://localhost:8080/"
        },
        "id": "wNRRCu67SWGS",
        "outputId": "20f0487f-20cc-4c62-f7df-e8efe8fc81cf"
      },
      "outputs": [
        {
          "name": "stdout",
          "output_type": "stream",
          "text": [
            "  => 15.94%\n",
            "a => 10.72%\n",
            "s => 8.84%\n",
            "o => 7.97%\n",
            "e => 7.68%\n",
            "r => 5.80%\n",
            "d => 4.78%\n",
            "i => 4.06%\n",
            "c => 4.06%\n",
            "n => 3.91%\n"
          ]
        }
      ],
      "source": [
        "def analisa_frequencia_letras (texto):\n",
        "    aparicoes = Counter(texto1.lower())\n",
        "    total_de_caracteres = sum(aparicoes.values())\n",
        "\n",
        "    proporcoes = [(letra,frequencia/total_de_caracteres*100) for letra, frequencia in aparicoes.items()]\n",
        "    proporcoes = Counter(dict(proporcoes))\n",
        "    for caractere, proporcao in proporcoes.most_common(10):\n",
        "        print (\"{} => {:.2f}%\".format(caractere,proporcao))\n",
        "\n",
        "analisa_frequencia_letras(texto1)"
      ]
    },
    {
      "cell_type": "code",
      "execution_count": null,
      "metadata": {
        "colab": {
          "base_uri": "https://localhost:8080/"
        },
        "id": "OlB_vR81SWGS",
        "outputId": "9d321eef-02dd-40fa-997e-37626c77017b"
      },
      "outputs": [
        {
          "name": "stdout",
          "output_type": "stream",
          "text": [
            "  => 15.94%\n",
            "a => 10.72%\n",
            "s => 8.84%\n",
            "o => 7.97%\n",
            "e => 7.68%\n",
            "r => 5.80%\n",
            "d => 4.78%\n",
            "i => 4.06%\n",
            "c => 4.06%\n",
            "n => 3.91%\n"
          ]
        }
      ],
      "source": [
        "analisa_frequencia_letras(texto2)"
      ]
    },
    {
      "cell_type": "code",
      "execution_count": null,
      "metadata": {
        "id": "r2IuE-SuSWGT"
      },
      "outputs": [],
      "source": [
        "texto3 = \"\"\"\n",
        "De acordo com um novo estudo, cerca de 12% dos anúncios mostrados em sites de conteúdos piratas têm algum ransomware, isto é, softwares maliciosos usados comumente para extorsão. O levantamento foi publicado na quinta-feira (15) pela Digital Citizens Alliance (DCA), ONG americana focada em segurança cibernética, e — pasmem — até os pesquisadores da entidade foram alvos de criminosos.\n",
        "Segundo a pesquisa, cibercriminosos conseguem lucrar às custas dos usuários com apenas alguns cliques. Para Tom Galvin, diretor executivo da organização, o ataque é “inteligente, mas perigoso” e tem até um nome: trick-to-click (em português, “truque para clicar”).\n",
        "\n",
        "Essa tática, de acordo com a pesquisa, consiste em atrair o usuário oferecendo um produto ou serviço para que ele clique no anúncio. Ao baixar e executar os programas maliciosos, silenciosamente, todas as informações estão sendo entregues.\n",
        "\n",
        "Até os investigadores da Digital Citizen Alliance foram alvejados por um ataque de ransomware enquanto apuravam o problema em um dos sites. Por sorte, os pesquisadores usavam máquinas virtuais e não precisaram pagar a quantia solicitada pelos criminosos.\n",
        "\n",
        "O relatório apontou também que 8 dos 10 sites ilegais investigados tinham anúncios com malwares. Para o diretor executivo da ONG, vivemos “à beira de uma epidemia de malware”. Ele espera que as descobertas façam os usuários pensarem duas vezes antes de entrarem em um site pirata.\n",
        "\n",
        "Ainda segundo Gavin, a Digital Citizen Alliance tem se aliado ao governo e a publicitários para tentar resolver o problema e disse que está criando programas para educar os usuários sobre os perigos.\n",
        "\n",
        "Outros estudos mostram situação diferente\n",
        "O Instituto de Propriedade Intelectual da União Européia (EUIPO) realizou um estudo parecido com o da DCA em 2018. Dentre os mais de 1.000 sites piratas investigados, o levantamento apontou que menos de 10% tinham conteúdos maliciosos.\n",
        "\n",
        "Estudiosos da UE não enxergam uma “epidemia de malware”, como o diretor executivo da Digital Citizen Alliance vê. “Sites e serviços de streaming suspeitos de violarem direitos autorais não são considerados fontes dominantes de malware ou distribuição de software indesejada”, concluíram.\n",
        "\n",
        "\n",
        "\"\"\""
      ]
    },
    {
      "cell_type": "code",
      "execution_count": null,
      "metadata": {
        "colab": {
          "base_uri": "https://localhost:8080/"
        },
        "id": "qAI36MhMSWGT",
        "outputId": "53fe9ff6-a4d7-42e2-9384-389f04cf1a75"
      },
      "outputs": [
        {
          "name": "stdout",
          "output_type": "stream",
          "text": [
            "  => 15.94%\n",
            "a => 10.72%\n",
            "s => 8.84%\n",
            "o => 7.97%\n",
            "e => 7.68%\n",
            "r => 5.80%\n",
            "d => 4.78%\n",
            "i => 4.06%\n",
            "c => 4.06%\n",
            "n => 3.91%\n"
          ]
        }
      ],
      "source": [
        "analisa_frequencia_letras(texto3)"
      ]
    },
    {
      "cell_type": "code",
      "execution_count": null,
      "metadata": {
        "id": "mn_vjuMlSWGT"
      },
      "outputs": [],
      "source": []
    }
  ],
  "metadata": {
    "colab": {
      "collapsed_sections": [],
      "include_colab_link": true,
      "provenance": []
    },
    "kernelspec": {
      "display_name": "Python 3 (ipykernel)",
      "language": "python",
      "name": "python3"
    },
    "language_info": {
      "codemirror_mode": {
        "name": "ipython",
        "version": 3
      },
      "file_extension": ".py",
      "mimetype": "text/x-python",
      "name": "python",
      "nbconvert_exporter": "python",
      "pygments_lexer": "ipython3",
      "version": "3.10.4"
    },
    "vscode": {
      "interpreter": {
        "hash": "051b12df20fc37aa2e025753dd8afb2280976c87d5bb108c453968ff6ba2db39"
      }
    }
  },
  "nbformat": 4,
  "nbformat_minor": 0
}

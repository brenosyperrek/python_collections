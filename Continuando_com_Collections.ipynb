{
  "cells": [
    {
      "cell_type": "code",
      "execution_count": 1,
      "metadata": {
        "id": "RNkYmGXDTVYS"
      },
      "outputs": [],
      "source": [
        "usuarios_data_science = [15, 23, 43, 56]\n",
        "usuarios_machine_learning = [113,23,56,42]"
      ]
    },
    {
      "cell_type": "code",
      "execution_count": 4,
      "metadata": {
        "colab": {
          "base_uri": "https://localhost:8080/"
        },
        "id": "x7oKBPZ5Yviv",
        "outputId": "78230369-6a21-4f49-eea1-ed9a666f1ae1"
      },
      "outputs": [
        {
          "data": {
            "text/plain": [
              "[15, 23, 43, 56, 113, 23, 56, 42]"
            ]
          },
          "execution_count": 4,
          "metadata": {},
          "output_type": "execute_result"
        }
      ],
      "source": [
        "assistiram = usuarios_data_science.copy()\n",
        "assistiram.extend(usuarios_machine_learning)\n",
        "assistiram"
      ]
    },
    {
      "cell_type": "code",
      "execution_count": 5,
      "metadata": {
        "id": "M_pPaHkjY9_B"
      },
      "outputs": [
        {
          "data": {
            "text/plain": [
              "8"
            ]
          },
          "execution_count": 5,
          "metadata": {},
          "output_type": "execute_result"
        }
      ],
      "source": [
        "len(assistiram)"
      ]
    },
    {
      "cell_type": "code",
      "execution_count": 6,
      "metadata": {},
      "outputs": [
        {
          "data": {
            "text/plain": [
              "{15, 23, 42, 43, 56, 113}"
            ]
          },
          "execution_count": 6,
          "metadata": {},
          "output_type": "execute_result"
        }
      ],
      "source": [
        "set(assistiram)"
      ]
    },
    {
      "cell_type": "code",
      "execution_count": 8,
      "metadata": {},
      "outputs": [
        {
          "ename": "TypeError",
          "evalue": "'set' object is not subscriptable",
          "output_type": "error",
          "traceback": [
            "\u001b[0;31m---------------------------------------------------------------------------\u001b[0m",
            "\u001b[0;31mTypeError\u001b[0m                                 Traceback (most recent call last)",
            "\u001b[1;32m/home/breno/dev/python_collections/Continuando_com_Collections.ipynb Cell 6\u001b[0m in \u001b[0;36m<cell line: 1>\u001b[0;34m()\u001b[0m\n\u001b[0;32m----> <a href='vscode-notebook-cell://wsl%2Bubuntu/home/breno/dev/python_collections/Continuando_com_Collections.ipynb#W5sdnNjb2RlLXJlbW90ZQ%3D%3D?line=0'>1</a>\u001b[0m usuarios_data_science[\u001b[39m2\u001b[39;49m]\n",
            "\u001b[0;31mTypeError\u001b[0m: 'set' object is not subscriptable"
          ]
        }
      ],
      "source": [
        "usuarios_data_science[2]"
      ]
    },
    {
      "cell_type": "code",
      "execution_count": 9,
      "metadata": {},
      "outputs": [
        {
          "name": "stdout",
          "output_type": "stream",
          "text": [
            "42\n",
            "43\n",
            "15\n",
            "113\n",
            "23\n",
            "56\n"
          ]
        }
      ],
      "source": [
        "for usuario in set(assistiram):\n",
        "    print(usuario)"
      ]
    },
    {
      "cell_type": "code",
      "execution_count": 10,
      "metadata": {},
      "outputs": [],
      "source": [
        "usuarios_data_science = {15, 23, 43, 56}\n",
        "usuarios_machine_learning = {113,23,56,42}"
      ]
    },
    {
      "cell_type": "code",
      "execution_count": 12,
      "metadata": {},
      "outputs": [
        {
          "data": {
            "text/plain": [
              "{23, 56}"
            ]
          },
          "execution_count": 12,
          "metadata": {},
          "output_type": "execute_result"
        }
      ],
      "source": [
        "usuarios_data_science & usuarios_machine_learning"
      ]
    },
    {
      "cell_type": "code",
      "execution_count": 13,
      "metadata": {},
      "outputs": [
        {
          "data": {
            "text/plain": [
              "{15, 43}"
            ]
          },
          "execution_count": 13,
          "metadata": {},
          "output_type": "execute_result"
        }
      ],
      "source": [
        "usuarios_data_science - usuarios_machine_learning"
      ]
    },
    {
      "cell_type": "code",
      "execution_count": 14,
      "metadata": {},
      "outputs": [
        {
          "data": {
            "text/plain": [
              "True"
            ]
          },
          "execution_count": 14,
          "metadata": {},
          "output_type": "execute_result"
        }
      ],
      "source": [
        "15 in (usuarios_data_science - usuarios_machine_learning)"
      ]
    },
    {
      "cell_type": "code",
      "execution_count": 15,
      "metadata": {},
      "outputs": [
        {
          "data": {
            "text/plain": [
              "False"
            ]
          },
          "execution_count": 15,
          "metadata": {},
          "output_type": "execute_result"
        }
      ],
      "source": [
        "23 in (usuarios_data_science - usuarios_machine_learning)"
      ]
    },
    {
      "cell_type": "code",
      "execution_count": 16,
      "metadata": {},
      "outputs": [
        {
          "data": {
            "text/plain": [
              "{15, 42, 43, 113}"
            ]
          },
          "execution_count": 16,
          "metadata": {},
          "output_type": "execute_result"
        }
      ],
      "source": [
        "usuarios_data_science ^ usuarios_machine_learning"
      ]
    },
    {
      "cell_type": "code",
      "execution_count": 17,
      "metadata": {},
      "outputs": [
        {
          "data": {
            "text/plain": [
              "{1, 5, 13, 17, 34, 52, 76}"
            ]
          },
          "execution_count": 17,
          "metadata": {},
          "output_type": "execute_result"
        }
      ],
      "source": [
        "usuarios = {1, 5, 76, 34, 52, 13, 17}\n",
        "usuarios"
      ]
    },
    {
      "cell_type": "code",
      "execution_count": 19,
      "metadata": {},
      "outputs": [
        {
          "data": {
            "text/plain": [
              "{1, 5, 13, 14, 17, 34, 52, 76}"
            ]
          },
          "execution_count": 19,
          "metadata": {},
          "output_type": "execute_result"
        }
      ],
      "source": [
        "usuarios.add(14)\n",
        "usuarios"
      ]
    },
    {
      "cell_type": "code",
      "execution_count": 21,
      "metadata": {},
      "outputs": [],
      "source": [
        "usuarios = frozenset(usuarios)"
      ]
    },
    {
      "cell_type": "code",
      "execution_count": 22,
      "metadata": {},
      "outputs": [
        {
          "data": {
            "text/plain": [
              "frozenset"
            ]
          },
          "execution_count": 22,
          "metadata": {},
          "output_type": "execute_result"
        }
      ],
      "source": [
        "type(usuarios)"
      ]
    },
    {
      "cell_type": "code",
      "execution_count": 23,
      "metadata": {},
      "outputs": [
        {
          "ename": "AttributeError",
          "evalue": "'frozenset' object has no attribute 'add'",
          "output_type": "error",
          "traceback": [
            "\u001b[0;31m---------------------------------------------------------------------------\u001b[0m",
            "\u001b[0;31mAttributeError\u001b[0m                            Traceback (most recent call last)",
            "\u001b[1;32m/home/breno/dev/python_collections/Continuando_com_Collections.ipynb Cell 17\u001b[0m in \u001b[0;36m<cell line: 1>\u001b[0;34m()\u001b[0m\n\u001b[0;32m----> <a href='vscode-notebook-cell://wsl%2Bubuntu/home/breno/dev/python_collections/Continuando_com_Collections.ipynb#X24sdnNjb2RlLXJlbW90ZQ%3D%3D?line=0'>1</a>\u001b[0m usuarios\u001b[39m.\u001b[39;49madd(\u001b[39m333\u001b[39m)\n",
            "\u001b[0;31mAttributeError\u001b[0m: 'frozenset' object has no attribute 'add'"
          ]
        }
      ],
      "source": [
        "usuarios.add(333)"
      ]
    },
    {
      "cell_type": "code",
      "execution_count": 24,
      "metadata": {},
      "outputs": [
        {
          "data": {
            "text/plain": [
              "['meu',\n",
              " 'nomo',\n",
              " 'é',\n",
              " 'breno',\n",
              " 'trabalho',\n",
              " 'na',\n",
              " 'casan',\n",
              " 'e',\n",
              " 'tenho',\n",
              " '2',\n",
              " 'filhos',\n",
              " 'e',\n",
              " 'dois',\n",
              " 'cachorros',\n",
              " 'e',\n",
              " 'gosto',\n",
              " 'muito',\n",
              " 'de',\n",
              " 'pizzza']"
            ]
          },
          "execution_count": 24,
          "metadata": {},
          "output_type": "execute_result"
        }
      ],
      "source": [
        "texto = \"meu nomo é breno trabalho na casan e tenho 2 filhos e dois cachorros e gosto muito de pizzza\"\n",
        "texto.split()"
      ]
    },
    {
      "cell_type": "code",
      "execution_count": 25,
      "metadata": {},
      "outputs": [
        {
          "data": {
            "text/plain": [
              "{'2',\n",
              " 'breno',\n",
              " 'cachorros',\n",
              " 'casan',\n",
              " 'de',\n",
              " 'dois',\n",
              " 'e',\n",
              " 'filhos',\n",
              " 'gosto',\n",
              " 'meu',\n",
              " 'muito',\n",
              " 'na',\n",
              " 'nomo',\n",
              " 'pizzza',\n",
              " 'tenho',\n",
              " 'trabalho',\n",
              " 'é'}"
            ]
          },
          "execution_count": 25,
          "metadata": {},
          "output_type": "execute_result"
        }
      ],
      "source": [
        "set(texto.split())"
      ]
    },
    {
      "cell_type": "code",
      "execution_count": 26,
      "metadata": {},
      "outputs": [],
      "source": [
        "aparicoes = {\n",
        "    \"Breno\" : 1,\n",
        "    \"cachorro\" : 2,\n",
        "    \"nome\" : 2,\n",
        "    \"vindo\" : 1\n",
        "}\n"
      ]
    },
    {
      "cell_type": "code",
      "execution_count": 27,
      "metadata": {},
      "outputs": [
        {
          "data": {
            "text/plain": [
              "dict"
            ]
          },
          "execution_count": 27,
          "metadata": {},
          "output_type": "execute_result"
        }
      ],
      "source": [
        "type(aparicoes)"
      ]
    },
    {
      "cell_type": "code",
      "execution_count": 28,
      "metadata": {},
      "outputs": [
        {
          "data": {
            "text/plain": [
              "1"
            ]
          },
          "execution_count": 28,
          "metadata": {},
          "output_type": "execute_result"
        }
      ],
      "source": [
        "aparicoes['Breno']"
      ]
    },
    {
      "cell_type": "code",
      "execution_count": 29,
      "metadata": {},
      "outputs": [
        {
          "ename": "KeyError",
          "evalue": "'xpto'",
          "output_type": "error",
          "traceback": [
            "\u001b[0;31m---------------------------------------------------------------------------\u001b[0m",
            "\u001b[0;31mKeyError\u001b[0m                                  Traceback (most recent call last)",
            "\u001b[1;32m/home/breno/dev/python_collections/Continuando_com_Collections.ipynb Cell 23\u001b[0m in \u001b[0;36m<cell line: 1>\u001b[0;34m()\u001b[0m\n\u001b[0;32m----> <a href='vscode-notebook-cell://wsl%2Bubuntu/home/breno/dev/python_collections/Continuando_com_Collections.ipynb#X33sdnNjb2RlLXJlbW90ZQ%3D%3D?line=0'>1</a>\u001b[0m aparicoes[\u001b[39m'\u001b[39;49m\u001b[39mxpto\u001b[39;49m\u001b[39m'\u001b[39;49m]\n",
            "\u001b[0;31mKeyError\u001b[0m: 'xpto'"
          ]
        }
      ],
      "source": [
        "aparicoes['xpto']"
      ]
    },
    {
      "cell_type": "code",
      "execution_count": 32,
      "metadata": {},
      "outputs": [
        {
          "data": {
            "text/plain": [
              "2"
            ]
          },
          "execution_count": 32,
          "metadata": {},
          "output_type": "execute_result"
        }
      ],
      "source": [
        "aparicoes.get('cachorro', 0)"
      ]
    },
    {
      "cell_type": "code",
      "execution_count": 31,
      "metadata": {},
      "outputs": [
        {
          "data": {
            "text/plain": [
              "0"
            ]
          },
          "execution_count": 31,
          "metadata": {},
          "output_type": "execute_result"
        }
      ],
      "source": [
        "aparicoes.get('xpto', 0)"
      ]
    },
    {
      "cell_type": "code",
      "execution_count": 33,
      "metadata": {},
      "outputs": [
        {
          "data": {
            "text/plain": [
              "{'Breno': 2, 'cachorro': 3, 'neve': 100}"
            ]
          },
          "execution_count": 33,
          "metadata": {},
          "output_type": "execute_result"
        }
      ],
      "source": [
        "aparicoes = dict(Breno = 2, cachorro = 3, neve = 100)\n",
        "aparicoes"
      ]
    },
    {
      "cell_type": "code",
      "execution_count": 34,
      "metadata": {},
      "outputs": [],
      "source": [
        "aparicoes = {\n",
        "    \"Breno\" : 1,\n",
        "    \"cachorro\" : 2,\n",
        "    \"nome\" : 2,\n",
        "    \"vindo\" : 1\n",
        "}"
      ]
    },
    {
      "cell_type": "code",
      "execution_count": 39,
      "metadata": {},
      "outputs": [
        {
          "data": {
            "text/plain": [
              "{'Breno': 1, 'cachorro': 2, 'nome': 2, 'vindo': 1, 'Simone': 1}"
            ]
          },
          "execution_count": 39,
          "metadata": {},
          "output_type": "execute_result"
        }
      ],
      "source": [
        "aparicoes['Simone'] = 1\n",
        "aparicoes"
      ]
    },
    {
      "cell_type": "code",
      "execution_count": 40,
      "metadata": {},
      "outputs": [
        {
          "data": {
            "text/plain": [
              "{'Breno': 1, 'cachorro': 2, 'nome': 2, 'vindo': 1, 'Simone': 5}"
            ]
          },
          "execution_count": 40,
          "metadata": {},
          "output_type": "execute_result"
        }
      ],
      "source": [
        "aparicoes['Simone'] = 5\n",
        "aparicoes"
      ]
    },
    {
      "cell_type": "code",
      "execution_count": 41,
      "metadata": {},
      "outputs": [
        {
          "data": {
            "text/plain": [
              "{'Breno': 1, 'cachorro': 2, 'nome': 2, 'vindo': 1}"
            ]
          },
          "execution_count": 41,
          "metadata": {},
          "output_type": "execute_result"
        }
      ],
      "source": [
        "del aparicoes['Simone']\n",
        "aparicoes"
      ]
    },
    {
      "cell_type": "code",
      "execution_count": 42,
      "metadata": {},
      "outputs": [
        {
          "data": {
            "text/plain": [
              "True"
            ]
          },
          "execution_count": 42,
          "metadata": {},
          "output_type": "execute_result"
        }
      ],
      "source": [
        "'cachorro' in aparicoes"
      ]
    },
    {
      "cell_type": "code",
      "execution_count": 43,
      "metadata": {},
      "outputs": [
        {
          "name": "stdout",
          "output_type": "stream",
          "text": [
            "Breno\n",
            "cachorro\n",
            "nome\n",
            "vindo\n"
          ]
        }
      ],
      "source": [
        "for elemento in aparicoes:\n",
        "    print(elemento)"
      ]
    },
    {
      "cell_type": "code",
      "execution_count": 45,
      "metadata": {},
      "outputs": [
        {
          "data": {
            "text/plain": [
              "True"
            ]
          },
          "execution_count": 45,
          "metadata": {},
          "output_type": "execute_result"
        }
      ],
      "source": [
        "1 in aparicoes.values()"
      ]
    },
    {
      "cell_type": "code",
      "execution_count": 46,
      "metadata": {},
      "outputs": [
        {
          "name": "stdout",
          "output_type": "stream",
          "text": [
            "Breno 1\n",
            "cachorro 2\n",
            "nome 2\n",
            "vindo 1\n"
          ]
        }
      ],
      "source": [
        "for elemento in aparicoes:\n",
        "    print(elemento,aparicoes[elemento])"
      ]
    },
    {
      "cell_type": "code",
      "execution_count": 47,
      "metadata": {},
      "outputs": [
        {
          "name": "stdout",
          "output_type": "stream",
          "text": [
            "('Breno', 1)\n",
            "('cachorro', 2)\n",
            "('nome', 2)\n",
            "('vindo', 1)\n"
          ]
        }
      ],
      "source": [
        "for elemento in aparicoes.items():\n",
        "    print(elemento)"
      ]
    },
    {
      "cell_type": "code",
      "execution_count": 49,
      "metadata": {},
      "outputs": [
        {
          "name": "stdout",
          "output_type": "stream",
          "text": [
            "Breno = 1\n",
            "cachorro = 2\n",
            "nome = 2\n",
            "vindo = 1\n"
          ]
        }
      ],
      "source": [
        "for chave, valor in aparicoes.items():\n",
        "    print(chave, '=', valor)"
      ]
    },
    {
      "cell_type": "code",
      "execution_count": 50,
      "metadata": {},
      "outputs": [
        {
          "data": {
            "text/plain": [
              "['palavra Breno', 'palavra cachorro', 'palavra nome', 'palavra vindo']"
            ]
          },
          "execution_count": 50,
          "metadata": {},
          "output_type": "execute_result"
        }
      ],
      "source": [
        "[\"palavra {}\".format(chave) for chave in aparicoes.keys()]"
      ]
    },
    {
      "cell_type": "code",
      "execution_count": 7,
      "metadata": {},
      "outputs": [
        {
          "data": {
            "text/plain": [
              "{'bem': 1,\n",
              " 'vindo': 1,\n",
              " 'meu': 2,\n",
              " 'nome': 1,\n",
              " 'é': 1,\n",
              " 'breno': 1,\n",
              " 'eu': 1,\n",
              " 'gosto': 1,\n",
              " 'muito': 2,\n",
              " 'de': 2,\n",
              " 'nomes': 1,\n",
              " 'e': 2,\n",
              " 'tenho': 1,\n",
              " 'o': 1,\n",
              " 'cachorro': 2,\n",
              " 'gossto': 1}"
            ]
          },
          "execution_count": 7,
          "metadata": {},
          "output_type": "execute_result"
        }
      ],
      "source": [
        "meu_texto = \"Bem vindo meu nome é Breno eu gosto muito de nomes e tenho o meu cachorro e gossto muito de cachorro\"\n",
        "meu_texto = meu_texto.lower()\n",
        "\n",
        "aparicoes = {}\n",
        "\n",
        "for palavra in meu_texto.split():\n",
        "    ate_agora = aparicoes.get(palavra, 0)\n",
        "    aparicoes[palavra] = ate_agora + 1\n",
        "\n",
        "aparicoes    "
      ]
    },
    {
      "cell_type": "code",
      "execution_count": 12,
      "metadata": {},
      "outputs": [
        {
          "data": {
            "text/plain": [
              "defaultdict(int,\n",
              "            {'bem': 1,\n",
              "             'vindo': 1,\n",
              "             'meu': 2,\n",
              "             'nome': 1,\n",
              "             'é': 1,\n",
              "             'breno': 1,\n",
              "             'eu': 1,\n",
              "             'gosto': 1,\n",
              "             'muito': 2,\n",
              "             'de': 2,\n",
              "             'nomes': 1,\n",
              "             'e': 2,\n",
              "             'tenho': 1,\n",
              "             'o': 1,\n",
              "             'cachorro': 2,\n",
              "             'gossto': 1})"
            ]
          },
          "execution_count": 12,
          "metadata": {},
          "output_type": "execute_result"
        }
      ],
      "source": [
        "from collections import defaultdict\n",
        "\n",
        "aparicoes = defaultdict(int)\n",
        "\n",
        "for palavra in meu_texto.split():\n",
        "    ate_agora = aparicoes[palavra]\n",
        "    aparicoes[palavra] = ate_agora + 1\n",
        "\n",
        "aparicoes    "
      ]
    },
    {
      "cell_type": "code",
      "execution_count": 13,
      "metadata": {},
      "outputs": [
        {
          "data": {
            "text/plain": [
              "defaultdict(int,\n",
              "            {'bem': 1,\n",
              "             'vindo': 1,\n",
              "             'meu': 2,\n",
              "             'nome': 1,\n",
              "             'é': 1,\n",
              "             'breno': 1,\n",
              "             'eu': 1,\n",
              "             'gosto': 1,\n",
              "             'muito': 2,\n",
              "             'de': 2,\n",
              "             'nomes': 1,\n",
              "             'e': 2,\n",
              "             'tenho': 1,\n",
              "             'o': 1,\n",
              "             'cachorro': 2,\n",
              "             'gossto': 1})"
            ]
          },
          "execution_count": 13,
          "metadata": {},
          "output_type": "execute_result"
        }
      ],
      "source": [
        "aparicoes = defaultdict(int)\n",
        "\n",
        "for palavra in meu_texto.split():\n",
        "    aparicoes[palavra] += 1\n",
        "\n",
        "aparicoes    "
      ]
    },
    {
      "cell_type": "code",
      "execution_count": 17,
      "metadata": {},
      "outputs": [
        {
          "data": {
            "text/plain": [
              "Counter({'bem': 1,\n",
              "         'vindo': 1,\n",
              "         'meu': 2,\n",
              "         'nome': 1,\n",
              "         'é': 1,\n",
              "         'breno': 1,\n",
              "         'eu': 1,\n",
              "         'gosto': 1,\n",
              "         'muito': 2,\n",
              "         'de': 2,\n",
              "         'nomes': 1,\n",
              "         'e': 2,\n",
              "         'tenho': 1,\n",
              "         'o': 1,\n",
              "         'cachorro': 2,\n",
              "         'gossto': 1})"
            ]
          },
          "execution_count": 17,
          "metadata": {},
          "output_type": "execute_result"
        }
      ],
      "source": [
        "from collections import Counter\n",
        "\n",
        "aparicoes = Counter(meu_texto.split())\n",
        "\n",
        "aparicoes"
      ]
    },
    {
      "cell_type": "code",
      "execution_count": 18,
      "metadata": {},
      "outputs": [],
      "source": [
        "texto1 = \"\"\"\n",
        "Mais de 170 concursos públicos no país estão com inscrições abertas nesta segunda-feira (19) e reúnem mais de 15 mil vagas em cargos de todos os níveis de escolaridade.\n",
        "Na sexta-feira, o Instituto Nacional do Seguro Social (INSS) abriu as inscrições do concurso público para preencher 1.000 vagas. O salário é de R$ 5.905,79.\n",
        "Além das vagas abertas, há concursos para formação de cadastro de reserva – ou seja, os candidatos aprovados são chamados conforme a abertura de vagas durante a validade do concurso.\n",
        "Nesta segunda, pelo menos quatro órgãos abrem o prazo de inscrições para quase 200 vagas em cargos de todos os níveis de escolaridade. Veja abaixo as informações de cada concurso:\n",
        "\"\"\""
      ]
    },
    {
      "cell_type": "code",
      "execution_count": 19,
      "metadata": {},
      "outputs": [],
      "source": [
        "texto2 = \"\"\"\n",
        "Áudios obtidos pelo Fantástico mostram pedidos de Jonas Lucas Alves Dias, ganhador de R$ 47,1 milhões na Mega-Sena em 2020, para que a gerente de seu banco liberasse uma transferência R$ 3 milhões a partir de sua conta.\n",
        "Os pedidos foram feitos quando ele já tinha sido sequestrado e estava sob o poder de uma quadrilha, que tentava extorquir dinheiro da vítima, que acabou morta — o crime aconteceu em Hortolândia (SP). Dois já foram presos e outros dois estão foragidos.\n",
        "\"Não chegou nada do comprovante, consegue agilizar isso pra mim?\", diz Jonas em uma das mensagens de áudio. \"Tô aqui na fazenda, preciso fechar isso aqui hoje\", afirma, em outro momento.\n",
        "A delegada Juliana Ricci, titular da Divisão Especializada de Investigações Criminais (Deic) de Piracicaba (SP), disse que a transferência foi negada porque !o valor era irreal\".\n",
        "\"Ele estava subjugado, isso nós temos certeza. Pede transferência bancária, que obviamente foi negada porque o valor era irreal para ser transferido sem ser presencialmente\", disse Ricci.\n",
        "\"\"\""
      ]
    },
    {
      "cell_type": "code",
      "execution_count": 28,
      "metadata": {},
      "outputs": [
        {
          "data": {
            "text/plain": [
              "[(' ', 15.895953757225435),\n",
              " ('a', 10.69364161849711),\n",
              " ('s', 8.815028901734104),\n",
              " ('o', 7.947976878612717),\n",
              " ('e', 7.658959537572255),\n",
              " ('r', 5.780346820809249),\n",
              " ('d', 4.76878612716763),\n",
              " ('i', 4.046242774566474),\n",
              " ('c', 4.046242774566474),\n",
              " ('n', 3.901734104046243)]"
            ]
          },
          "execution_count": 28,
          "metadata": {},
          "output_type": "execute_result"
        }
      ],
      "source": [
        "aparicoes = Counter(texto1.lower())\n",
        "total_de_caracteres = sum(aparicoes.values())\n",
        "proporcoes = [(letra,frequencia/total_de_caracteres*100) for letra, frequencia in aparicoes.items()]\n",
        "proporcoes = Counter(dict(proporcoes))\n",
        "proporcoes.most_common(10)\n",
        "    "
      ]
    },
    {
      "cell_type": "code",
      "execution_count": 31,
      "metadata": {},
      "outputs": [
        {
          "name": "stdout",
          "output_type": "stream",
          "text": [
            "  => 15.90%\n",
            "a => 10.69%\n",
            "s => 8.82%\n",
            "o => 7.95%\n",
            "e => 7.66%\n",
            "r => 5.78%\n",
            "d => 4.77%\n",
            "i => 4.05%\n",
            "c => 4.05%\n",
            "n => 3.90%\n"
          ]
        }
      ],
      "source": [
        "def analisa_frequencia_letras (texto):\n",
        "    aparicoes = Counter(texto1.lower())\n",
        "    total_de_caracteres = sum(aparicoes.values())\n",
        "\n",
        "    proporcoes = [(letra,frequencia/total_de_caracteres*100) for letra, frequencia in aparicoes.items()]\n",
        "    proporcoes = Counter(dict(proporcoes))\n",
        "    for caractere, proporcao in proporcoes.most_common(10):\n",
        "        print (\"{} => {:.2f}%\".format(caractere,proporcao))\n",
        "\n",
        "analisa_frequencia_letras(texto1)"
      ]
    },
    {
      "cell_type": "code",
      "execution_count": 32,
      "metadata": {},
      "outputs": [
        {
          "name": "stdout",
          "output_type": "stream",
          "text": [
            "  => 15.90%\n",
            "a => 10.69%\n",
            "s => 8.82%\n",
            "o => 7.95%\n",
            "e => 7.66%\n",
            "r => 5.78%\n",
            "d => 4.77%\n",
            "i => 4.05%\n",
            "c => 4.05%\n",
            "n => 3.90%\n"
          ]
        }
      ],
      "source": [
        "analisa_frequencia_letras(texto2)"
      ]
    },
    {
      "cell_type": "code",
      "execution_count": null,
      "metadata": {},
      "outputs": [],
      "source": []
    }
  ],
  "metadata": {
    "colab": {
      "authorship_tag": "ABX9TyMr81pcBpmQdWbNAXHW+AQZ",
      "collapsed_sections": [],
      "provenance": []
    },
    "kernelspec": {
      "display_name": "Python 3.9.13 ('alura_python')",
      "language": "python",
      "name": "python3"
    },
    "language_info": {
      "codemirror_mode": {
        "name": "ipython",
        "version": 3
      },
      "file_extension": ".py",
      "mimetype": "text/x-python",
      "name": "python",
      "nbconvert_exporter": "python",
      "pygments_lexer": "ipython3",
      "version": "3.9.13"
    },
    "vscode": {
      "interpreter": {
        "hash": "051b12df20fc37aa2e025753dd8afb2280976c87d5bb108c453968ff6ba2db39"
      }
    }
  },
  "nbformat": 4,
  "nbformat_minor": 0
}

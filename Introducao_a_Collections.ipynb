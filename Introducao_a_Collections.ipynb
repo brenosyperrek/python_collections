{
  "cells": [
    {
      "cell_type": "markdown",
      "metadata": {
        "id": "view-in-github",
        "colab_type": "text"
      },
      "source": [
        "<a href=\"https://colab.research.google.com/github/brenosyperrek/python_collections/blob/main/Introducao_a_Collections.ipynb\" target=\"_parent\"><img src=\"https://colab.research.google.com/assets/colab-badge.svg\" alt=\"Open In Colab\"/></a>"
      ]
    },
    {
      "cell_type": "code",
      "execution_count": null,
      "id": "c47adc5c",
      "metadata": {
        "colab": {
          "base_uri": "https://localhost:8080/"
        },
        "id": "c47adc5c",
        "outputId": "e4dbc244-7a1e-417c-b2e7-e2ff31c4e002"
      },
      "outputs": [
        {
          "output_type": "stream",
          "name": "stdout",
          "text": [
            "39\n",
            "30\n",
            "27\n",
            "18\n"
          ]
        }
      ],
      "source": [
        "idade1 = 39\n",
        "idade2 = 30\n",
        "idade3 = 27\n",
        "idade4 = 18\n",
        "\n",
        "print(idade1)\n",
        "print(idade2)\n",
        "print(idade3)\n",
        "print(idade4)"
      ]
    },
    {
      "cell_type": "code",
      "execution_count": null,
      "id": "1d741994",
      "metadata": {
        "colab": {
          "base_uri": "https://localhost:8080/"
        },
        "id": "1d741994",
        "outputId": "2adfa088-5261-4b5f-ba77-48ec08a86e47"
      },
      "outputs": [
        {
          "output_type": "stream",
          "name": "stdout",
          "text": [
            "[39, 30, 27, 18]\n"
          ]
        },
        {
          "output_type": "execute_result",
          "data": {
            "text/plain": [
              "list"
            ]
          },
          "metadata": {},
          "execution_count": 2
        }
      ],
      "source": [
        "idades = [39,30,27,18]\n",
        "print(idades)\n",
        "type(idades)"
      ]
    },
    {
      "cell_type": "code",
      "execution_count": null,
      "id": "00bd6c3d",
      "metadata": {
        "colab": {
          "base_uri": "https://localhost:8080/"
        },
        "id": "00bd6c3d",
        "outputId": "177ae29c-77e5-4e9d-f274-f10ad64a30c6"
      },
      "outputs": [
        {
          "output_type": "execute_result",
          "data": {
            "text/plain": [
              "30"
            ]
          },
          "metadata": {},
          "execution_count": 3
        }
      ],
      "source": [
        "idades[1]"
      ]
    },
    {
      "cell_type": "code",
      "execution_count": null,
      "id": "76670837",
      "metadata": {
        "colab": {
          "base_uri": "https://localhost:8080/"
        },
        "id": "76670837",
        "outputId": "66201835-e92f-4c51-f008-e2c30b2fccaf"
      },
      "outputs": [
        {
          "output_type": "execute_result",
          "data": {
            "text/plain": [
              "4"
            ]
          },
          "metadata": {},
          "execution_count": 4
        }
      ],
      "source": [
        "len(idades)"
      ]
    },
    {
      "cell_type": "code",
      "execution_count": null,
      "id": "9b803049",
      "metadata": {
        "id": "9b803049"
      },
      "outputs": [],
      "source": [
        "idades.append(15)"
      ]
    },
    {
      "cell_type": "code",
      "execution_count": null,
      "id": "e98f41cc",
      "metadata": {
        "colab": {
          "base_uri": "https://localhost:8080/"
        },
        "id": "e98f41cc",
        "outputId": "510ebe29-6b4b-41eb-ff9e-4e837694dae4"
      },
      "outputs": [
        {
          "output_type": "stream",
          "name": "stdout",
          "text": [
            "39\n",
            "30\n",
            "27\n",
            "18\n",
            "15\n"
          ]
        }
      ],
      "source": [
        "for idade in idades:\n",
        "    print(idade)"
      ]
    },
    {
      "cell_type": "code",
      "execution_count": null,
      "id": "9d10f82a",
      "metadata": {
        "id": "9d10f82a"
      },
      "outputs": [],
      "source": [
        "idades.remove(30)"
      ]
    },
    {
      "cell_type": "code",
      "execution_count": null,
      "id": "9c40e84d",
      "metadata": {
        "colab": {
          "base_uri": "https://localhost:8080/"
        },
        "id": "9c40e84d",
        "outputId": "5c432ffa-c9b7-4da1-c3a6-ccad89911518"
      },
      "outputs": [
        {
          "output_type": "execute_result",
          "data": {
            "text/plain": [
              "[39, 27, 18, 15]"
            ]
          },
          "metadata": {},
          "execution_count": 8
        }
      ],
      "source": [
        "idades"
      ]
    },
    {
      "cell_type": "code",
      "execution_count": null,
      "id": "165c7489",
      "metadata": {
        "colab": {
          "base_uri": "https://localhost:8080/"
        },
        "id": "165c7489",
        "outputId": "4befc02d-eb26-462e-8f1a-5a71ed272c18"
      },
      "outputs": [
        {
          "output_type": "execute_result",
          "data": {
            "text/plain": [
              "[39, 27, 18, 15, 15]"
            ]
          },
          "metadata": {},
          "execution_count": 9
        }
      ],
      "source": [
        "idades.append(15)\n",
        "idades"
      ]
    },
    {
      "cell_type": "code",
      "execution_count": null,
      "id": "f1dcff0b",
      "metadata": {
        "colab": {
          "base_uri": "https://localhost:8080/"
        },
        "id": "f1dcff0b",
        "outputId": "3a31020a-30bd-4ef1-fad6-fd7a2d8bf4ff"
      },
      "outputs": [
        {
          "output_type": "execute_result",
          "data": {
            "text/plain": [
              "[39, 27, 18, 15]"
            ]
          },
          "metadata": {},
          "execution_count": 10
        }
      ],
      "source": [
        "idades.remove(15)\n",
        "idades"
      ]
    },
    {
      "cell_type": "code",
      "execution_count": null,
      "id": "b4cb6c5f",
      "metadata": {
        "colab": {
          "base_uri": "https://localhost:8080/"
        },
        "id": "b4cb6c5f",
        "outputId": "5b28f1b9-a522-485b-e145-038dda58539a"
      },
      "outputs": [
        {
          "output_type": "execute_result",
          "data": {
            "text/plain": [
              "[39, 27, 18, 15, 27]"
            ]
          },
          "metadata": {},
          "execution_count": 11
        }
      ],
      "source": [
        "idades.append(27)\n",
        "idades"
      ]
    },
    {
      "cell_type": "code",
      "execution_count": null,
      "id": "31a66509",
      "metadata": {
        "colab": {
          "base_uri": "https://localhost:8080/"
        },
        "id": "31a66509",
        "outputId": "ef95f8c8-5e30-42de-a1eb-c13abeaa745a"
      },
      "outputs": [
        {
          "output_type": "execute_result",
          "data": {
            "text/plain": [
              "[39, 18, 15, 27]"
            ]
          },
          "metadata": {},
          "execution_count": 12
        }
      ],
      "source": [
        "idades.remove(27)\n",
        "idades"
      ]
    },
    {
      "cell_type": "code",
      "execution_count": null,
      "id": "6dcaa01f",
      "metadata": {
        "colab": {
          "base_uri": "https://localhost:8080/"
        },
        "id": "6dcaa01f",
        "outputId": "c05cc95f-e4e8-494a-ed84-e26d70ad64c5"
      },
      "outputs": [
        {
          "output_type": "execute_result",
          "data": {
            "text/plain": [
              "False"
            ]
          },
          "metadata": {},
          "execution_count": 13
        }
      ],
      "source": [
        "28 in idades"
      ]
    },
    {
      "cell_type": "code",
      "execution_count": null,
      "id": "d5aab9dd",
      "metadata": {
        "colab": {
          "base_uri": "https://localhost:8080/"
        },
        "id": "d5aab9dd",
        "outputId": "aba361f8-9963-4fa6-ddbe-bb62681457f8"
      },
      "outputs": [
        {
          "output_type": "execute_result",
          "data": {
            "text/plain": [
              "True"
            ]
          },
          "metadata": {},
          "execution_count": 14
        }
      ],
      "source": [
        "15 in idades"
      ]
    },
    {
      "cell_type": "code",
      "execution_count": null,
      "id": "ef5745b3",
      "metadata": {
        "id": "ef5745b3"
      },
      "outputs": [],
      "source": [
        "if 15 in idades:\n",
        "    idades.remove(15)"
      ]
    },
    {
      "cell_type": "code",
      "execution_count": null,
      "id": "472ff274",
      "metadata": {
        "colab": {
          "base_uri": "https://localhost:8080/"
        },
        "id": "472ff274",
        "outputId": "c3f3fec5-e79f-495b-e323-fc1b327bbdeb"
      },
      "outputs": [
        {
          "output_type": "execute_result",
          "data": {
            "text/plain": [
              "[39, 18, 27]"
            ]
          },
          "metadata": {},
          "execution_count": 16
        }
      ],
      "source": [
        "idades"
      ]
    },
    {
      "cell_type": "code",
      "execution_count": null,
      "id": "c15e6ef8",
      "metadata": {
        "id": "c15e6ef8"
      },
      "outputs": [],
      "source": []
    }
  ],
  "metadata": {
    "colab": {
      "collapsed_sections": [],
      "provenance": [],
      "include_colab_link": true
    },
    "kernelspec": {
      "display_name": "Python 3.9.13 ('alura_python')",
      "language": "python",
      "name": "python3"
    },
    "language_info": {
      "codemirror_mode": {
        "name": "ipython",
        "version": 3
      },
      "file_extension": ".py",
      "mimetype": "text/x-python",
      "name": "python",
      "nbconvert_exporter": "python",
      "pygments_lexer": "ipython3",
      "version": "3.9.13"
    },
    "vscode": {
      "interpreter": {
        "hash": "051b12df20fc37aa2e025753dd8afb2280976c87d5bb108c453968ff6ba2db39"
      }
    }
  },
  "nbformat": 4,
  "nbformat_minor": 5
}
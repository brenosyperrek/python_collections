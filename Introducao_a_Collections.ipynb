{
  "cells": [
    {
      "cell_type": "code",
      "execution_count": 5,
      "id": "c47adc5c",
      "metadata": {
        "colab": {
          "base_uri": "https://localhost:8080/"
        },
        "id": "c47adc5c",
        "outputId": "316245cf-cec9-4a46-85e4-a9dacf17d1d9"
      },
      "outputs": [
        {
          "name": "stdout",
          "output_type": "stream",
          "text": [
            "39\n",
            "30\n",
            "27\n",
            "18\n"
          ]
        }
      ],
      "source": [
        "idade1 = 39\n",
        "idade2 = 30\n",
        "idade3 = 27\n",
        "idade4 = 18\n",
        "\n",
        "print(idade1)\n",
        "print(idade2)\n",
        "print(idade3)\n",
        "print(idade4)"
      ]
    },
    {
      "cell_type": "code",
      "execution_count": 6,
      "id": "1d741994",
      "metadata": {
        "colab": {
          "base_uri": "https://localhost:8080/"
        },
        "id": "1d741994",
        "outputId": "2e130a3c-a30e-4fcf-acf9-9a93fcf9ab36"
      },
      "outputs": [
        {
          "name": "stdout",
          "output_type": "stream",
          "text": [
            "[39, 30, 27, 18]\n"
          ]
        },
        {
          "data": {
            "text/plain": [
              "list"
            ]
          },
          "execution_count": 6,
          "metadata": {},
          "output_type": "execute_result"
        }
      ],
      "source": [
        "idades = [39,30,27,18]\n",
        "print(idades)\n",
        "type(idades)"
      ]
    },
    {
      "cell_type": "code",
      "execution_count": 7,
      "id": "00bd6c3d",
      "metadata": {
        "colab": {
          "base_uri": "https://localhost:8080/"
        },
        "id": "00bd6c3d",
        "outputId": "533b8e4d-ba9c-4d0e-e23c-9cf308f2df49"
      },
      "outputs": [
        {
          "data": {
            "text/plain": [
              "30"
            ]
          },
          "execution_count": 7,
          "metadata": {},
          "output_type": "execute_result"
        }
      ],
      "source": [
        "idades[1]"
      ]
    },
    {
      "cell_type": "code",
      "execution_count": 8,
      "id": "76670837",
      "metadata": {
        "colab": {
          "base_uri": "https://localhost:8080/"
        },
        "id": "76670837",
        "outputId": "b830292b-3836-4c8d-c733-30984a984d99"
      },
      "outputs": [
        {
          "data": {
            "text/plain": [
              "4"
            ]
          },
          "execution_count": 8,
          "metadata": {},
          "output_type": "execute_result"
        }
      ],
      "source": [
        "len(idades)"
      ]
    },
    {
      "cell_type": "code",
      "execution_count": 9,
      "id": "9b803049",
      "metadata": {
        "id": "9b803049"
      },
      "outputs": [],
      "source": [
        "idades.append(15)"
      ]
    },
    {
      "cell_type": "code",
      "execution_count": 10,
      "id": "e98f41cc",
      "metadata": {
        "colab": {
          "base_uri": "https://localhost:8080/"
        },
        "id": "e98f41cc",
        "outputId": "1accfabe-96ae-4a0f-f61a-b423b08b3ecd"
      },
      "outputs": [
        {
          "name": "stdout",
          "output_type": "stream",
          "text": [
            "39\n",
            "30\n",
            "27\n",
            "18\n",
            "15\n"
          ]
        }
      ],
      "source": [
        "for idade in idades:\n",
        "    print(idade)"
      ]
    },
    {
      "cell_type": "code",
      "execution_count": 11,
      "id": "9d10f82a",
      "metadata": {
        "id": "9d10f82a"
      },
      "outputs": [],
      "source": [
        "idades.remove(30)"
      ]
    },
    {
      "cell_type": "code",
      "execution_count": 12,
      "id": "9c40e84d",
      "metadata": {
        "colab": {
          "base_uri": "https://localhost:8080/"
        },
        "id": "9c40e84d",
        "outputId": "ff81819e-fa3c-4869-d545-cbd199ce3938"
      },
      "outputs": [
        {
          "data": {
            "text/plain": [
              "[39, 27, 18, 15]"
            ]
          },
          "execution_count": 12,
          "metadata": {},
          "output_type": "execute_result"
        }
      ],
      "source": [
        "idades"
      ]
    },
    {
      "cell_type": "code",
      "execution_count": 13,
      "id": "165c7489",
      "metadata": {
        "colab": {
          "base_uri": "https://localhost:8080/"
        },
        "id": "165c7489",
        "outputId": "90ca7a51-99c0-475d-9afa-be0b40967e9e"
      },
      "outputs": [
        {
          "data": {
            "text/plain": [
              "[39, 27, 18, 15, 15]"
            ]
          },
          "execution_count": 13,
          "metadata": {},
          "output_type": "execute_result"
        }
      ],
      "source": [
        "idades.append(15)\n",
        "idades"
      ]
    },
    {
      "cell_type": "code",
      "execution_count": 14,
      "id": "f1dcff0b",
      "metadata": {
        "colab": {
          "base_uri": "https://localhost:8080/"
        },
        "id": "f1dcff0b",
        "outputId": "bc5aebec-efde-4b07-c5b4-8f10b2a3aeb0"
      },
      "outputs": [
        {
          "data": {
            "text/plain": [
              "[39, 27, 18, 15]"
            ]
          },
          "execution_count": 14,
          "metadata": {},
          "output_type": "execute_result"
        }
      ],
      "source": [
        "idades.remove(15)\n",
        "idades"
      ]
    },
    {
      "cell_type": "code",
      "execution_count": 15,
      "id": "b4cb6c5f",
      "metadata": {
        "colab": {
          "base_uri": "https://localhost:8080/"
        },
        "id": "b4cb6c5f",
        "outputId": "b62e5da8-d9fa-4c6b-ac90-ff881eaed113"
      },
      "outputs": [
        {
          "data": {
            "text/plain": [
              "[39, 27, 18, 15, 27]"
            ]
          },
          "execution_count": 15,
          "metadata": {},
          "output_type": "execute_result"
        }
      ],
      "source": [
        "idades.append(27)\n",
        "idades"
      ]
    },
    {
      "cell_type": "code",
      "execution_count": 16,
      "id": "31a66509",
      "metadata": {
        "colab": {
          "base_uri": "https://localhost:8080/"
        },
        "id": "31a66509",
        "outputId": "9bd23545-21af-47b1-f652-d01e6ae4c9ac"
      },
      "outputs": [
        {
          "data": {
            "text/plain": [
              "[39, 18, 15, 27]"
            ]
          },
          "execution_count": 16,
          "metadata": {},
          "output_type": "execute_result"
        }
      ],
      "source": [
        "idades.remove(27)\n",
        "idades"
      ]
    },
    {
      "cell_type": "code",
      "execution_count": 17,
      "id": "6dcaa01f",
      "metadata": {
        "colab": {
          "base_uri": "https://localhost:8080/"
        },
        "id": "6dcaa01f",
        "outputId": "240adf76-bcc5-4dc7-8608-c9c72f4deacf"
      },
      "outputs": [
        {
          "data": {
            "text/plain": [
              "False"
            ]
          },
          "execution_count": 17,
          "metadata": {},
          "output_type": "execute_result"
        }
      ],
      "source": [
        "28 in idades"
      ]
    },
    {
      "cell_type": "code",
      "execution_count": 18,
      "id": "d5aab9dd",
      "metadata": {
        "colab": {
          "base_uri": "https://localhost:8080/"
        },
        "id": "d5aab9dd",
        "outputId": "f597a47a-f613-4acf-dad6-0bbd3b3c5a00"
      },
      "outputs": [
        {
          "data": {
            "text/plain": [
              "True"
            ]
          },
          "execution_count": 18,
          "metadata": {},
          "output_type": "execute_result"
        }
      ],
      "source": [
        "15 in idades"
      ]
    },
    {
      "cell_type": "code",
      "execution_count": 19,
      "id": "ef5745b3",
      "metadata": {
        "id": "ef5745b3"
      },
      "outputs": [],
      "source": [
        "if 15 in idades:\n",
        "    idades.remove(15)"
      ]
    },
    {
      "cell_type": "code",
      "execution_count": 20,
      "id": "472ff274",
      "metadata": {
        "colab": {
          "base_uri": "https://localhost:8080/"
        },
        "id": "472ff274",
        "outputId": "6708cc47-c643-45b2-c524-a444fc2c300c"
      },
      "outputs": [
        {
          "data": {
            "text/plain": [
              "[39, 18, 27]"
            ]
          },
          "execution_count": 20,
          "metadata": {},
          "output_type": "execute_result"
        }
      ],
      "source": [
        "idades"
      ]
    },
    {
      "cell_type": "code",
      "execution_count": null,
      "id": "c15e6ef8",
      "metadata": {
        "id": "c15e6ef8"
      },
      "outputs": [],
      "source": []
    }
  ],
  "metadata": {
    "colab": {
      "collapsed_sections": [],
      "provenance": []
    },
    "kernelspec": {
      "display_name": "Python 3.9.13 ('alura_python')",
      "language": "python",
      "name": "python3"
    },
    "language_info": {
      "codemirror_mode": {
        "name": "ipython",
        "version": 3
      },
      "file_extension": ".py",
      "mimetype": "text/x-python",
      "name": "python",
      "nbconvert_exporter": "python",
      "pygments_lexer": "ipython3",
      "version": "3.9.13"
    },
    "vscode": {
      "interpreter": {
        "hash": "051b12df20fc37aa2e025753dd8afb2280976c87d5bb108c453968ff6ba2db39"
      }
    }
  },
  "nbformat": 4,
  "nbformat_minor": 5
}
